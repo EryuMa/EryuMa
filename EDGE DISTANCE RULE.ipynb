{
 "cells": [
  {
   "cell_type": "code",
   "execution_count": 1,
   "id": "27bfe7c7",
   "metadata": {},
   "outputs": [],
   "source": [
    "import math\n",
    "from decimal import *\n"
   ]
  },
  {
   "cell_type": "code",
   "execution_count": 16,
   "id": "71e381e0",
   "metadata": {},
   "outputs": [
    {
     "name": "stdout",
     "output_type": "stream",
     "text": [
      "input the BORE dia.:\n",
      "23\n",
      "input the Initial e:\n",
      "20\n",
      "edge distance is: 27.599999999999998\n"
     ]
    },
    {
     "data": {
      "text/plain": [
       "7.599999999999998"
      ]
     },
     "execution_count": 16,
     "metadata": {},
     "output_type": "execute_result"
    }
   ],
   "source": [
    "#getcontext().prec = 3\n",
    "print('input the BORE dia.:')\n",
    "d=input()\n",
    "print('input the Initial e:')\n",
    "e0=input()\n",
    "\n",
    "e=1.2*float(d)\n",
    "print('edge distance is:',float(e))\n",
    "\n",
    "OFFSET=float(e)-float(e0)\n",
    "OFFSET"
   ]
  },
  {
   "cell_type": "code",
   "execution_count": null,
   "id": "60d4ecd2",
   "metadata": {},
   "outputs": [],
   "source": []
  }
 ],
 "metadata": {
  "kernelspec": {
   "display_name": "Python 3",
   "language": "python",
   "name": "python3"
  },
  "language_info": {
   "codemirror_mode": {
    "name": "ipython",
    "version": 3
   },
   "file_extension": ".py",
   "mimetype": "text/x-python",
   "name": "python",
   "nbconvert_exporter": "python",
   "pygments_lexer": "ipython3",
   "version": "3.8.8"
  }
 },
 "nbformat": 4,
 "nbformat_minor": 5
}
