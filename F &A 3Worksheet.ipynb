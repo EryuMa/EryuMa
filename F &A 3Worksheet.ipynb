{
 "cells": [
  {
   "cell_type": "code",
   "execution_count": 3,
   "metadata": {},
   "outputs": [],
   "source": [
    "import numpy as np\n",
    "import sympy as sp \n",
    "import matplotlib.pyplot as plt\n",
    "import math"
   ]
  },
  {
   "cell_type": "code",
   "execution_count": null,
   "metadata": {
    "scrolled": false
   },
   "outputs": [],
   "source": [
    "#worksheet FSI\n",
    "T=20\n",
    "r=0.35\n",
    "A_44=0.045\n",
    "B=20\n",
    "g=9.8\n",
    "omega_n=2*np.pi/T\n",
    "print(omega_n)\n",
    "l=(r**2+A_44)*omega_n**2*(B**2/g)\n",
    "print(l)\n",
    "\n",
    "#plot\n",
    "def L(t):\n",
    "    omega_n=2*np.pi/t\n",
    "    return (r**2+A_44)*omega_n**2*(B**2/g)\n",
    "\n",
    "t1=np.linspace(1,20)\n",
    "plt.xlabel('T')\n",
    "plt.ylabel('L',rotation=0)\n",
    "plt.plot(t1,L(t1))\n",
    "plt.show()"
   ]
  },
  {
   "cell_type": "code",
   "execution_count": null,
   "metadata": {},
   "outputs": [],
   "source": [
    "#Worksheet 3b\n",
    "#L/D=4\n",
    "def P_(L):\n",
    "    D=4*L\n",
    "    return 10*D*(50+5*L) #KN\n",
    "\n",
    "L1=np.linspace(20,40)\n",
    "plt.plot(L1,P_(L1))\n",
    "plt.xlabel('L')\n",
    "plt.ylabel('Hult,N',rotation=0)\n",
    "plt.show()\n",
    "print(P_(20),P_(40))\n"
   ]
  },
  {
   "cell_type": "code",
   "execution_count": null,
   "metadata": {
    "scrolled": true
   },
   "outputs": [],
   "source": [
    "\n",
    "L=20\n",
    "z=sp.Symbol('x') #\n",
    "f=(L-z)*(100+(L+z)/2)-z*(100+z-(z*(30+z)/(60+3*z)))\n",
    "z=sp.solve(f)\n",
    "print(z)\n",
    "\n",
    "def H_(L,z):\n",
    "    H=5*L/2*(50+5*z)*(2*z-L)\n",
    "    return H\n",
    "\n",
    "for L1 in np.linspace(20,40):\n",
    "    z1=0.2\n",
    "    plt.plot(L1,H_(L1,z1))\n",
    "    plt.show()"
   ]
  },
  {
   "cell_type": "code",
   "execution_count": null,
   "metadata": {},
   "outputs": [],
   "source": [
    "'''def H_(L):\n",
    "    \n",
    "    H=5*L/2*(50+5*z)*(2*z-L)\n",
    "    return H\n",
    "'''\n",
    "#question1b\n",
    "z=sp.Symbol('x')#\n",
    "f=4*(0.3-z)*(0.35+0.5*z)-8*z-2*z**2\n",
    "z=sp.solve(f)\n",
    "z"
   ]
  },
  {
   "cell_type": "code",
   "execution_count": null,
   "metadata": {},
   "outputs": [],
   "source": [
    "#question1c\n",
    "#t=x, solve the \n",
    "x = sp.Symbol('x')    \n",
    "f = 1/6*(0.02**3-(0.02-2*x)**3)*70*(10**3)-0.19 \n",
    "x = sp.solve(f) \n",
    "x"
   ]
  },
  {
   "cell_type": "code",
   "execution_count": null,
   "metadata": {},
   "outputs": [],
   "source": [
    "\n",
    "def f(L,z):\n",
    "    return (1000/L)**2+(1000/L)+1/2-((z+1000)/L)**2\n",
    "L1=np.linspace(0,1)\n",
    "z1=np.linspace(0,1)\n",
    "\n",
    "plt.plot(z1,f(L1,z1))\n",
    "plt.show();"
   ]
  },
  {
   "cell_type": "code",
   "execution_count": null,
   "metadata": {},
   "outputs": [],
   "source": [
    "#question 1c\n",
    "def M(H,z_h,h):\n",
    "    M_p=H*(h+z_h/2)\n",
    "    return M_p\n",
    "\n",
    "#position A\n",
    "H1=0.497\n",
    "h1=0\n",
    "z_h1=0.124 \n",
    "M_p1=M(H1,z_h1,h1)\n",
    "\n",
    "print(M_p1)\n",
    "\n",
    "#position B\n",
    "H2=0.2464\n",
    "h2=0.2\n",
    "z_h2=0.0616\n",
    "M_p2=M(H2,z_h2,h2)\n",
    "print(M_p2)\n",
    "\n",
    "#solve the thickness\n",
    "'''x1= sp.Symbol('x')\n",
    "f= 1/6*(0.02**3-(0.02-2*x1)**3)*70*(10**3)-M_p1\n",
    "x1= sp.solve(f)\n",
    "x1'''\n",
    "\n",
    "x2= sp.Symbol('x')\n",
    "f= 1/6*(0.02**3-(0.02-2*x2)**3)*70*(10**3)-M_p2\n",
    "x2= sp.solve(f)\n",
    "x2"
   ]
  },
  {
   "cell_type": "code",
   "execution_count": null,
   "metadata": {},
   "outputs": [],
   "source": [
    "x = sp.Symbol('x')\n",
    "f=0.16*x*(0.2-x)*(1.8+2/3*0.2+1/3*x)-(1.6*(x**2)*(1.8+2/3*x))\n",
    "x= sp.solve(f)\n",
    "x"
   ]
  },
  {
   "cell_type": "code",
   "execution_count": null,
   "metadata": {},
   "outputs": [],
   "source": [
    "#question 2a\n",
    "#panetration\n",
    "su1=60*9.8/((12*np.pi/4*(0.02**2))+0.65*np.pi*0.02*0.2*2/3)\n",
    "su2=30*9.8/((12*np.pi/4*(0.02**2))+0.65*np.pi*0.02*0.1*2/3)\n",
    "k_su=(su1-su2)/0.1\n",
    "print(su1,su2)\n",
    "k_su/1000"
   ]
  },
  {
   "cell_type": "code",
   "execution_count": null,
   "metadata": {},
   "outputs": [],
   "source": [
    "#with passive\n",
    "D=0.02\n",
    "z1=0.1\n",
    "z2=0.2\n",
    "w1=30\n",
    "w2=60\n",
    "L=0.2\n",
    "\n",
    "su_1=(w1*9.8)/((np.pi*D*z1*0.65*2/3)+12*(np.pi/4*(D**2)))\n",
    "su_2=(w2*9.8)/((np.pi*D*z2*0.65*2/3)+12*(np.pi/4*(D**2)))\n",
    "\n",
    "\n",
    "k=(su_2-su_1)/(z2-z1)\n",
    "print(su_1,su_2)\n",
    "k/1000"
   ]
  },
  {
   "cell_type": "code",
   "execution_count": null,
   "metadata": {},
   "outputs": [],
   "source": [
    "Su_1=(w1*9.8)/(np.pi*(D**2)/4)\n",
    "Su_2=(w2*9.8)/(np.pi*D*z2*0.65*2/3)\n",
    "print(Su_1,Su_2)\n",
    "\n"
   ]
  },
  {
   "cell_type": "code",
   "execution_count": null,
   "metadata": {},
   "outputs": [],
   "source": [
    "#2c\n",
    "h=1.8\n",
    "L=0.2\n",
    "z = sp.Symbol('x')\n",
    "Ft=160*2/3*z\n",
    "Fb=160*(0.2-2/3*z)\n",
    "f=Fb*(h+(2/3*L+1/3*z))-Ft*(h+2/3*z)\n",
    "z= sp.solve(f)\n",
    "z\n"
   ]
  },
  {
   "cell_type": "code",
   "execution_count": null,
   "metadata": {},
   "outputs": [],
   "source": [
    "\n",
    "zr=0.153\n",
    "Ft1=160*2/3*zr\n",
    "Fb1=160*(0.2-2/3*zr)\n",
    "Hult=Ft1-Fb1\n",
    "print('Ft:{},Fb:{}'.format(Ft1,Fb1))\n",
    "print('Hult:{}'.format(Hult))"
   ]
  },
  {
   "cell_type": "code",
   "execution_count": null,
   "metadata": {},
   "outputs": [],
   "source": [
    "lamda=2*np.pi/0.0272\n",
    "lamda\n"
   ]
  },
  {
   "cell_type": "code",
   "execution_count": null,
   "metadata": {},
   "outputs": [],
   "source": [
    "\n",
    "vp=0.54/0.0272\n",
    "print(vp)\n",
    "'''a=0.3/0.051\n",
    "a\n",
    "\n",
    "k=(0.54**2)/(9.8*(1+0.3**2))\n",
    "k'''"
   ]
  },
  {
   "cell_type": "code",
   "execution_count": null,
   "metadata": {},
   "outputs": [],
   "source": [
    "#3c\n",
    "Pf=10*10**6   #N\n",
    "def Mp_e(z_h):\n",
    "    LA= 100+(210*z_h-z_h**2)/(60+30*z_h)\n",
    "    return Pf *LA\n",
    "\n",
    "def Mp_si(t):\n",
    "    D=np.linspace(1,10)\n",
    "    return 1/6*(D**3-(D-2*t)**3)\n",
    "t1=np.linspace(0,0.5)\n",
    "#z_h1=np.arange(1,20)\n",
    "\n",
    "for Mp_e(z_h1)/Mp_si(t1)<220*10**6:\n",
    "    print(z_h1)\n",
    "    \n"
   ]
  },
  {
   "cell_type": "code",
   "execution_count": 5,
   "metadata": {},
   "outputs": [
    {
     "data": {
      "text/plain": [
       "[-3.78650873591429, 0.153175402580962]"
      ]
     },
     "execution_count": 5,
     "metadata": {},
     "output_type": "execute_result"
    }
   ],
   "source": [
    "h=1.8\n",
    "L=0.2\n",
    "z = sp.Symbol('x')\n",
    "Ft=160*2/3*z\n",
    "Fb=160*(0.2-2/3*z)\n",
    "f=Fb*(h+(2/3*L+1/3*z))-Ft*(h+2/3*z)\n",
    "z= sp.solve(f)\n",
    "z\n"
   ]
  },
  {
   "cell_type": "code",
   "execution_count": 6,
   "metadata": {},
   "outputs": [
    {
     "data": {
      "text/plain": [
       "[-3.61801355508727 - 0.e-22*I,\n",
       " -1.38200562649677 + 0.e-22*I,\n",
       " 1.00001918158404 - 0.e-22*I]"
      ]
     },
     "execution_count": 6,
     "metadata": {},
     "output_type": "execute_result"
    }
   ],
   "source": [
    "\n",
    "x = sp.Symbol('x')\n",
    "f=4*x**2+x**3-1.71**3\n",
    "x= sp.solve(f)\n",
    "x"
   ]
  },
  {
   "cell_type": "code",
   "execution_count": null,
   "metadata": {},
   "outputs": [],
   "source": []
  }
 ],
 "metadata": {
  "kernelspec": {
   "display_name": "Python 3",
   "language": "python",
   "name": "python3"
  },
  "language_info": {
   "codemirror_mode": {
    "name": "ipython",
    "version": 3
   },
   "file_extension": ".py",
   "mimetype": "text/x-python",
   "name": "python",
   "nbconvert_exporter": "python",
   "pygments_lexer": "ipython3",
   "version": "3.8.5"
  }
 },
 "nbformat": 4,
 "nbformat_minor": 4
}
