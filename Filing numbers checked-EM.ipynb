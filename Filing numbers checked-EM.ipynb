{
 "cells": [
  {
   "cell_type": "code",
   "execution_count": 4,
   "id": "f922e4d8",
   "metadata": {},
   "outputs": [],
   "source": [
    "import os"
   ]
  },
  {
   "cell_type": "code",
   "execution_count": 10,
   "id": "65f256a1",
   "metadata": {},
   "outputs": [
    {
     "name": "stdout",
     "output_type": "stream",
     "text": [
      "Total number of files 48\n",
      "Total Number of directories 26\n",
      "Total: 74\n"
     ]
    }
   ],
   "source": [
    "APP_FOLDER = 'C:/Users\\/EryuMa/Dropbox (Wightshipyard)/Wightshipyard team folder/071 - Arksen/5 - USP IN/3D Files In/'\n",
    "\n",
    "totalFiles = 0\n",
    "totalDir = 0\n",
    "\n",
    "for base, dirs, files in os.walk(APP_FOLDER):\n",
    "    #print('Searching in : ',base)\n",
    "    for directories in dirs:\n",
    "        totalDir += 1\n",
    "    for Files in files:\n",
    "        totalFiles += 1\n",
    "\n",
    "\n",
    "print('Total number of files',totalFiles)\n",
    "print('Total Number of directories',totalDir)\n",
    "\n",
    "print('Total:',(totalDir + totalFiles))"
   ]
  },
  {
   "cell_type": "code",
   "execution_count": 12,
   "id": "9a284ec4",
   "metadata": {},
   "outputs": [
    {
     "name": "stdout",
     "output_type": "stream",
     "text": [
      "Total number of files 37\n",
      "Total Number of directories 1\n",
      "Total: 38\n"
     ]
    }
   ],
   "source": [
    "#dropbox to be imported\n",
    "APP_FOLDER = 'C:/Users/EryuMa/Dropbox (Wightshipyard)/Wightshipyard team folder/071 - Arksen/WSC Remote Working/Rhino/TO BE IMPORTED'\n",
    "\n",
    "totalFiles = 0\n",
    "totalDir = 0\n",
    "\n",
    "for base, dirs, files in os.walk(APP_FOLDER):\n",
    "    #print('Searching in : ',base)\n",
    "    for directories in dirs:\n",
    "        totalDir += 1\n",
    "    for Files in files:\n",
    "        totalFiles += 1\n",
    "\n",
    "\n",
    "print('Total number of files',totalFiles)\n",
    "print('Total Number of directories',totalDir)\n",
    "\n",
    "print('Total:',(totalDir + totalFiles))"
   ]
  },
  {
   "cell_type": "code",
   "execution_count": null,
   "id": "ebe10ab4",
   "metadata": {},
   "outputs": [],
   "source": []
  }
 ],
 "metadata": {
  "kernelspec": {
   "display_name": "Python 3",
   "language": "python",
   "name": "python3"
  },
  "language_info": {
   "codemirror_mode": {
    "name": "ipython",
    "version": 3
   },
   "file_extension": ".py",
   "mimetype": "text/x-python",
   "name": "python",
   "nbconvert_exporter": "python",
   "pygments_lexer": "ipython3",
   "version": "3.8.8"
  }
 },
 "nbformat": 4,
 "nbformat_minor": 5
}
