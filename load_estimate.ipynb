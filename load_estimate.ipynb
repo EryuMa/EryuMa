{
  "nbformat": 4,
  "nbformat_minor": 0,
  "metadata": {
    "colab": {
      "name": "load estimate",
      "provenance": [],
      "collapsed_sections": []
    },
    "kernelspec": {
      "name": "python3",
      "display_name": "Python 3"
    },
    "language_info": {
      "name": "python"
    }
  },
  "cells": [
    {
      "cell_type": "markdown",
      "source": [
        "**LoadCell Estimate**\n",
        "\n",
        "Hydrostatic summation of moment equation:\n",
        "$$\\sum W_i *x_i ={LCG}* {Mass}$$\n",
        "\n",
        "$$LCG_{fwd} *Weight_{fwd} + LCG_{aft}*Weight_{aft}=Weight_{predicted} * LCG $$\n",
        "\n",
        "$$Weight_{fwd}+Weight_{aft}=Weight_{predicted}$$\n",
        "\n",
        "hence,\n",
        "$$-8.415 *Weight_{fwd} + -18.155*Weight_{aft}=82* -14.84 $$\n",
        "$$Weight_{fwd} + Weight_{aft}=82 $$\n",
        "Results:\n",
        "$$Weight_{fwd}=27.908624~te$$\n",
        "$$Weight_{aft}=54.091375~te$$\n",
        "\n",
        "assume that $W_{STBD} $ is equivelent to $W_{PORT} $,  $(TCG=0)$\n",
        "\n",
        "for fwd:\n",
        "$$W_{STBD}=W_{PORT}=W_{fwd}/2= 13.95~te$$\n",
        "for aft:\n",
        "$$W_{STBD}=W_{PORT}=W_{aft}/2= 27.05~te$$"
      ],
      "metadata": {
        "id": "aMiKzsS117S_"
      }
    },
    {
      "cell_type": "code",
      "source": [
        "from sympy import *\n",
        "from scipy.optimize import fsolve\n",
        "import os,sys\n",
        "\n",
        "'''\n",
        "#assume that Wport=Wstbd\n",
        "\n",
        "Theoritical lightship weight:\n",
        "mass=82te\n",
        "LCG=-14.84m\n",
        "fwd LCG=-8.415, aft LCG=-18.155\n",
        "#Valadation \n",
        "\n",
        "W1=Symbol('x')\n",
        "W2=Symbol('y')\n",
        "solve([-8.415*x+(-18.155)*y+14.84*82,x+y-82],[W1,W2])\n",
        "'''\n",
        "\n",
        "def f(x):\n",
        "    return [-8.415*x[0]+(-18.155)*x[1]+14.84*82,\n",
        "           x[1]+x[0]-82]\n",
        "x0 = [0,0]\n",
        "W1,W2 = fsolve(f,x0)\n",
        "print('W_fwd:{0}, W_aft:{1}'.format(W1,W2))\n",
        "\n",
        "#As Wstbd=Wport\n",
        "w1=W1/2\n",
        "w2=W2/2\n",
        "\n",
        "print('Wstbd_fwd=Wport_fwd:',format(w1,'.2f'),'Wstbd_aft=Wport_aft:',format(w2,'.2f'))"
      ],
      "metadata": {
        "id": "L81IHfXa4eVL",
        "colab": {
          "base_uri": "https://localhost:8080/"
        },
        "outputId": "252ffa2d-21e4-4547-b181-72cf3b9f9111"
      },
      "execution_count": null,
      "outputs": [
        {
          "output_type": "stream",
          "name": "stdout",
          "text": [
            "W_fwd:27.90862422997949, W_aft:54.09137577002051\n",
            "Wstbd_fwd=Wport_fwd: 13.95 Wstbd_aft=Wport_aft: 27.05\n"
          ]
        }
      ]
    },
    {
      "cell_type": "code",
      "source": [
        "#Validation check\n",
        "R_p=27/54\n",
        "R_n=W1/W2\n",
        "Error=100*(R_n-R_p)/R_p\n",
        "print('Numerical loadcell tolerance is',str(Error)[:5],'%')"
      ],
      "metadata": {
        "colab": {
          "base_uri": "https://localhost:8080/"
        },
        "id": "PJdb55YrGoZf",
        "outputId": "028c9f99-0438-4ff7-e616-33429cba56c3"
      },
      "execution_count": null,
      "outputs": [
        {
          "output_type": "stream",
          "name": "stdout",
          "text": [
            "Numerical loadcell tolerance is 3.190 %\n"
          ]
        }
      ]
    }
  ]
}