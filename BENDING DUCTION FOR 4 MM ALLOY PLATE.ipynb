{
 "cells": [
  {
   "cell_type": "code",
   "execution_count": 1,
   "id": "2ab91cca",
   "metadata": {},
   "outputs": [],
   "source": [
    "import numpy as np"
   ]
  },
  {
   "cell_type": "code",
   "execution_count": 9,
   "id": "41e4f77e",
   "metadata": {},
   "outputs": [
    {
     "name": "stdout",
     "output_type": "stream",
     "text": [
      "enter inner bending radius\n",
      "25\n",
      "enter thickness\n",
      "4\n",
      "enter folded degree\n",
      "90\n"
     ]
    },
    {
     "data": {
      "text/plain": [
       "39.269908169872416"
      ]
     },
     "execution_count": 9,
     "metadata": {},
     "output_type": "execute_result"
    }
   ],
   "source": [
    "#for less or equal to 90 degree folded angle\n",
    "print(\"enter inner bending radius\")\n",
    "r=int(input())\n",
    "print(\"enter thickness\")\n",
    "t=int(input())\n",
    "print(\"enter folded degree\")\n",
    "theta=input()\n",
    "ARC=float(theta)*np.pi*(r/180)\n",
    "\n",
    "BD=2*r-ARC\n",
    "ARC"
   ]
  },
  {
   "cell_type": "code",
   "execution_count": 10,
   "id": "9e0fe205",
   "metadata": {},
   "outputs": [
    {
     "name": "stdout",
     "output_type": "stream",
     "text": [
      "enter Length1 for on folding plate\n",
      "293\n",
      "enter Length2 for other folding plate\n",
      "409\n",
      "Bending Duction=11mm\n",
      "unfolding length =691mm\n"
     ]
    }
   ],
   "source": [
    "print(\"enter Length1 for on folding plate\")\n",
    "A=int(input())\n",
    "print(\"enter Length2 for other folding plate\")\n",
    "B=int(input())\n",
    "\n",
    "L1=A+B\n",
    "print(\"Bending Duction=%.fmm\"%BD)\n",
    "L2=L1-BD\n",
    "print(\"unfolding length =%.fmm\"%L2)"
   ]
  },
  {
   "cell_type": "code",
   "execution_count": 8,
   "id": "0f7afad8",
   "metadata": {},
   "outputs": [
    {
     "name": "stdout",
     "output_type": "stream",
     "text": [
      "167\n",
      "72.86749627076327\n"
     ]
    }
   ],
   "source": [
    "theta1=input()\n",
    "#theta_=np.tan(np.deg2rad(theta/2))\n",
    "\n",
    "ARC=float(theta1)*np.pi*(r/180)\n",
    "print(ARC)\n"
   ]
  },
  {
   "cell_type": "code",
   "execution_count": null,
   "id": "f257ceea",
   "metadata": {},
   "outputs": [],
   "source": [
    "\"\"\"print(\"enter inner bending radius\")\n",
    "r=int(input())\n",
    "print(\"enter thickness\")\n",
    "t=int(input())\n",
    "print(\"enter folded degree\")\n",
    "theta=int(input())\n",
    "theta_=np.tan(np.deg2rad(theta/2))\n",
    "\n",
    "BD=2*r-(2*r*(np.pi/4)*theta_)\"\"\""
   ]
  }
 ],
 "metadata": {
  "kernelspec": {
   "display_name": "Python 3",
   "language": "python",
   "name": "python3"
  },
  "language_info": {
   "codemirror_mode": {
    "name": "ipython",
    "version": 3
   },
   "file_extension": ".py",
   "mimetype": "text/x-python",
   "name": "python",
   "nbconvert_exporter": "python",
   "pygments_lexer": "ipython3",
   "version": "3.8.8"
  }
 },
 "nbformat": 4,
 "nbformat_minor": 5
}
